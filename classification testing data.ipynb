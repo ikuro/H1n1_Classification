{
 "cells": [
  {
   "cell_type": "code",
   "execution_count": 1,
   "id": "46046e31-154d-4af2-8a5e-88a3bf4b5ecc",
   "metadata": {},
   "outputs": [],
   "source": [
    "import pandas as pd\n",
    "import numpy as np\n",
    "import matplotlib.pyplot as plt\n",
    "import seaborn as sns\n",
    "import warnings\n",
    "warnings.filterwarnings('ignore')"
   ]
  },
  {
   "cell_type": "code",
   "execution_count": 2,
   "id": "575857a4-5669-4e33-ad2e-64f4e134234f",
   "metadata": {},
   "outputs": [],
   "source": [
    "test_df=pd.read_csv('test_set_features.csv')"
   ]
  },
  {
   "cell_type": "code",
   "execution_count": 3,
   "id": "ba7253f0-253c-49d0-aff3-6da3ddcc6d26",
   "metadata": {},
   "outputs": [
    {
     "name": "stdout",
     "output_type": "stream",
     "text": [
      "<class 'pandas.core.frame.DataFrame'>\n",
      "RangeIndex: 26708 entries, 0 to 26707\n",
      "Data columns (total 36 columns):\n",
      " #   Column                       Non-Null Count  Dtype  \n",
      "---  ------                       --------------  -----  \n",
      " 0   respondent_id                26708 non-null  int64  \n",
      " 1   h1n1_concern                 26623 non-null  float64\n",
      " 2   h1n1_knowledge               26586 non-null  float64\n",
      " 3   behavioral_antiviral_meds    26629 non-null  float64\n",
      " 4   behavioral_avoidance         26495 non-null  float64\n",
      " 5   behavioral_face_mask         26689 non-null  float64\n",
      " 6   behavioral_wash_hands        26668 non-null  float64\n",
      " 7   behavioral_large_gatherings  26636 non-null  float64\n",
      " 8   behavioral_outside_home      26626 non-null  float64\n",
      " 9   behavioral_touch_face        26580 non-null  float64\n",
      " 10  doctor_recc_h1n1             24548 non-null  float64\n",
      " 11  doctor_recc_seasonal         24548 non-null  float64\n",
      " 12  chronic_med_condition        25776 non-null  float64\n",
      " 13  child_under_6_months         25895 non-null  float64\n",
      " 14  health_worker                25919 non-null  float64\n",
      " 15  health_insurance             14480 non-null  float64\n",
      " 16  opinion_h1n1_vacc_effective  26310 non-null  float64\n",
      " 17  opinion_h1n1_risk            26328 non-null  float64\n",
      " 18  opinion_h1n1_sick_from_vacc  26333 non-null  float64\n",
      " 19  opinion_seas_vacc_effective  26256 non-null  float64\n",
      " 20  opinion_seas_risk            26209 non-null  float64\n",
      " 21  opinion_seas_sick_from_vacc  26187 non-null  float64\n",
      " 22  age_group                    26708 non-null  object \n",
      " 23  education                    25301 non-null  object \n",
      " 24  race                         26708 non-null  object \n",
      " 25  sex                          26708 non-null  object \n",
      " 26  income_poverty               22211 non-null  object \n",
      " 27  marital_status               25266 non-null  object \n",
      " 28  rent_or_own                  24672 non-null  object \n",
      " 29  employment_status            25237 non-null  object \n",
      " 30  hhs_geo_region               26708 non-null  object \n",
      " 31  census_msa                   26708 non-null  object \n",
      " 32  household_adults             26483 non-null  float64\n",
      " 33  household_children           26483 non-null  float64\n",
      " 34  employment_industry          13433 non-null  object \n",
      " 35  employment_occupation        13282 non-null  object \n",
      "dtypes: float64(23), int64(1), object(12)\n",
      "memory usage: 7.3+ MB\n"
     ]
    }
   ],
   "source": [
    "test_df.info()"
   ]
  },
  {
   "cell_type": "code",
   "execution_count": 4,
   "id": "a7c55d68-13f2-4492-973b-099e547a4b6b",
   "metadata": {},
   "outputs": [],
   "source": [
    "test_df.drop(columns=['employment_occupation','employment_industry','health_insurance'], axis=1, inplace=True)"
   ]
  },
  {
   "cell_type": "code",
   "execution_count": 5,
   "id": "f52b6fad-5dce-457c-903a-b034265d159a",
   "metadata": {},
   "outputs": [
    {
     "name": "stdout",
     "output_type": "stream",
     "text": [
      "<class 'pandas.core.frame.DataFrame'>\n",
      "RangeIndex: 26708 entries, 0 to 26707\n",
      "Data columns (total 33 columns):\n",
      " #   Column                       Non-Null Count  Dtype  \n",
      "---  ------                       --------------  -----  \n",
      " 0   respondent_id                26708 non-null  int64  \n",
      " 1   h1n1_concern                 26623 non-null  float64\n",
      " 2   h1n1_knowledge               26586 non-null  float64\n",
      " 3   behavioral_antiviral_meds    26629 non-null  float64\n",
      " 4   behavioral_avoidance         26495 non-null  float64\n",
      " 5   behavioral_face_mask         26689 non-null  float64\n",
      " 6   behavioral_wash_hands        26668 non-null  float64\n",
      " 7   behavioral_large_gatherings  26636 non-null  float64\n",
      " 8   behavioral_outside_home      26626 non-null  float64\n",
      " 9   behavioral_touch_face        26580 non-null  float64\n",
      " 10  doctor_recc_h1n1             24548 non-null  float64\n",
      " 11  doctor_recc_seasonal         24548 non-null  float64\n",
      " 12  chronic_med_condition        25776 non-null  float64\n",
      " 13  child_under_6_months         25895 non-null  float64\n",
      " 14  health_worker                25919 non-null  float64\n",
      " 15  opinion_h1n1_vacc_effective  26310 non-null  float64\n",
      " 16  opinion_h1n1_risk            26328 non-null  float64\n",
      " 17  opinion_h1n1_sick_from_vacc  26333 non-null  float64\n",
      " 18  opinion_seas_vacc_effective  26256 non-null  float64\n",
      " 19  opinion_seas_risk            26209 non-null  float64\n",
      " 20  opinion_seas_sick_from_vacc  26187 non-null  float64\n",
      " 21  age_group                    26708 non-null  object \n",
      " 22  education                    25301 non-null  object \n",
      " 23  race                         26708 non-null  object \n",
      " 24  sex                          26708 non-null  object \n",
      " 25  income_poverty               22211 non-null  object \n",
      " 26  marital_status               25266 non-null  object \n",
      " 27  rent_or_own                  24672 non-null  object \n",
      " 28  employment_status            25237 non-null  object \n",
      " 29  hhs_geo_region               26708 non-null  object \n",
      " 30  census_msa                   26708 non-null  object \n",
      " 31  household_adults             26483 non-null  float64\n",
      " 32  household_children           26483 non-null  float64\n",
      "dtypes: float64(22), int64(1), object(10)\n",
      "memory usage: 6.7+ MB\n"
     ]
    }
   ],
   "source": [
    "test_df.info()"
   ]
  },
  {
   "cell_type": "code",
   "execution_count": 8,
   "id": "b925c8bc-7dc4-4f15-a60c-b1c4cc12bd6b",
   "metadata": {},
   "outputs": [],
   "source": [
    "test_df['income_poverty']=test_df['income_poverty'].fillna(test_df['income_poverty'].mode()[0])"
   ]
  },
  {
   "cell_type": "code",
   "execution_count": 9,
   "id": "d5567c4f-eb19-45cf-ac45-3fd5bf7bb6ac",
   "metadata": {},
   "outputs": [],
   "source": [
    "test_df=test_df.dropna()"
   ]
  },
  {
   "cell_type": "code",
   "execution_count": 10,
   "id": "599043ae-f58d-4639-91fe-c031adccf35e",
   "metadata": {},
   "outputs": [],
   "source": [
    "num_test_df=test_df.select_dtypes(include='number')"
   ]
  },
  {
   "cell_type": "code",
   "execution_count": 11,
   "id": "4de4ec6d-7d1d-4f47-8c2e-696f9153827d",
   "metadata": {},
   "outputs": [
    {
     "name": "stdout",
     "output_type": "stream",
     "text": [
      "['behavioral_antiviral_meds', 'behavioral_avoidance', 'behavioral_face_mask', 'behavioral_wash_hands', 'behavioral_large_gatherings', 'behavioral_outside_home', 'behavioral_touch_face', 'doctor_recc_h1n1', 'doctor_recc_seasonal', 'chronic_med_condition', 'child_under_6_months', 'health_worker']\n"
     ]
    }
   ],
   "source": [
    "binary_test_df=[col for col in num_test_df.columns if num_test_df[col].nunique() == 2] \n",
    "print(binary_test_df)"
   ]
  },
  {
   "cell_type": "code",
   "execution_count": 12,
   "id": "c7207778-db06-4671-9ffd-d8bfd96e6c0d",
   "metadata": {},
   "outputs": [],
   "source": [
    "test_df[binary_test_df] = test_df[binary_test_df].apply(lambda x: x.astype(int))"
   ]
  },
  {
   "cell_type": "code",
   "execution_count": 13,
   "id": "6b018f95-a48b-4d27-bc27-11637d998562",
   "metadata": {},
   "outputs": [
    {
     "name": "stdout",
     "output_type": "stream",
     "text": [
      "['respondent_id', 'h1n1_concern', 'h1n1_knowledge', 'opinion_h1n1_vacc_effective', 'opinion_h1n1_risk', 'opinion_h1n1_sick_from_vacc', 'opinion_seas_vacc_effective', 'opinion_seas_risk', 'opinion_seas_sick_from_vacc', 'household_adults', 'household_children']\n"
     ]
    }
   ],
   "source": [
    "test_order_cols = [col for col in num_test_df.columns if num_test_df[col].nunique() > 2] \n",
    "print(test_order_cols)"
   ]
  },
  {
   "cell_type": "code",
   "execution_count": null,
   "id": "0c66911a-c445-4c7b-96aa-e7755b3635e1",
   "metadata": {},
   "outputs": [],
   "source": [
    "test_df[test_order_cols] = test_df[test_order_cols].apply(lambda x: x.astype(int))"
   ]
  },
  {
   "cell_type": "code",
   "execution_count": null,
   "id": "fe53936f-81c3-4ce6-a956-f475b647f504",
   "metadata": {},
   "outputs": [],
   "source": [
    "X_test_encoded = test_df.copy()"
   ]
  },
  {
   "cell_type": "code",
   "execution_count": null,
   "id": "561fcdea-759c-4ed0-8630-ed2f78f600d3",
   "metadata": {},
   "outputs": [],
   "source": [
    "# Label Encoding for binary categorical columns\n",
    "from sklearn.preprocessing import LabelEncoder, OneHotEncoder\n",
    "# Copy datasets to avoid modifying originals\n",
    "X_test_encoded = df_encoded.copy()\n",
    "\n",
    "\n",
    "# Label Encoding for binary categorical columns (Train & Test)\n",
    "le = LabelEncoder()\n",
    "\n",
    "for col in binary_cols:\n",
    "\n",
    "X_test_encoded[col] = le.transform(X_test_encoded[col]) \n",
    "\n",
    "X_test_encoded = pd.get_dummies(X_test_encoded, columns=multi_cols, drop_first=True)"
   ]
  },
  {
   "cell_type": "code",
   "execution_count": null,
   "id": "4274abab-1d23-4905-858b-e2f82a549a1b",
   "metadata": {},
   "outputs": [],
   "source": [
    "X_test_encoded.head()"
   ]
  },
  {
   "cell_type": "code",
   "execution_count": null,
   "id": "8f396142-5ced-4e62-9453-496142d22930",
   "metadata": {},
   "outputs": [],
   "source": [
    "\n",
    "#convert or testing dataset as well\n",
    "for col in X_test_encoded.select_dtypes(include='bool'):\n",
    "    X_test_encoded[col] = X_test_encoded[col].astype(int)\n",
    "X_test_encoded.head(3)\n"
   ]
  },
  {
   "cell_type": "code",
   "execution_count": null,
   "id": "52caccb0-0601-442a-a02e-ae9c1b88fede",
   "metadata": {},
   "outputs": [],
   "source": [
    "from sklearn.preprocessing import MinMaxScaler\n",
    "\n",
    "# Initialize the MinMaxScaler\n",
    "scaler = MinMaxScaler()\n",
    "\n",
    "# Fit on training data and transform both train & test\n",
    "X_train_scaled = scaler.fit_transform(X_train_encoded)  # Fit & transform on training\n",
    "X_test_scaled = scaler.transform(X_test_encoded)  # Only transform test!\n",
    "\n",
    "# Convert back to DataFrame for easier analysis\n",
    "X_train_scaled = pd.DataFrame(X_train_scaled, columns=X_train_encoded.columns)\n",
    "X_test_scaled = pd.DataFrame(X_test_scaled, columns=X_test_encoded.columns)"
   ]
  },
  {
   "cell_type": "code",
   "execution_count": null,
   "id": "dca53c2c-acff-469d-98ea-d22495e70228",
   "metadata": {},
   "outputs": [],
   "source": [
    "X_test=X_test_scaled\n",
    "X_test.head(3)"
   ]
  }
 ],
 "metadata": {
  "kernelspec": {
   "display_name": "Python 3 (ipykernel)",
   "language": "python",
   "name": "python3"
  },
  "language_info": {
   "codemirror_mode": {
    "name": "ipython",
    "version": 3
   },
   "file_extension": ".py",
   "mimetype": "text/x-python",
   "name": "python",
   "nbconvert_exporter": "python",
   "pygments_lexer": "ipython3",
   "version": "3.12.7"
  }
 },
 "nbformat": 4,
 "nbformat_minor": 5
}
